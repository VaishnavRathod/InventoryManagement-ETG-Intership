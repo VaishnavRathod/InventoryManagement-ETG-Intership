{
 "cells": [
  {
   "cell_type": "code",
   "execution_count": 143,
   "id": "48fb534d",
   "metadata": {},
   "outputs": [],
   "source": [
    "import json\n",
    "import time"
   ]
  },
  {
   "cell_type": "markdown",
   "id": "5b92a24d",
   "metadata": {},
   "source": [
    "# Code to create 'Record' and 'Sales' File"
   ]
  },
  {
   "cell_type": "code",
   "execution_count": 144,
   "id": "22585887",
   "metadata": {},
   "outputs": [],
   "source": [
    "fd = open('record.json', 'r')                # Opening 'record.json' file in read 'r' mode\n",
    "t = fd.read()                                # Reading/copying file into t variable\n",
    "fd.close()                                   # closing the file\n",
    "\n",
    "fd = open('record.json','w')              # Making json file name 'record.json' in write 'w' mode  \n",
    "fd.write(t)                                  # Copying 't' into 'record.json' file\n",
    "fd.close()\n",
    "\n",
    "sales = {}                                   # Creating dictionary for sales\n",
    "\n",
    "sales = json.dumps(sales)                    \n",
    "\n",
    "fd = open(\"sales.json\", 'w')\n",
    "fd.write(sales)\n",
    "fd.close()"
   ]
  },
  {
   "cell_type": "markdown",
   "id": "992f3a98",
   "metadata": {},
   "source": [
    "# Converting Inventory and Sales into dictionory\n"
   ]
  },
  {
   "cell_type": "code",
   "execution_count": 145,
   "id": "e89ee08d",
   "metadata": {},
   "outputs": [],
   "source": [
    "fd = open('record.json','r')   # for inventory\n",
    "t = fd.read()\n",
    "fd.close()\n",
    "dct = json.loads(t)\n",
    "\n",
    "\n",
    "fd = open(\"sales.json\", 'r')   # for sales file\n",
    "sl = fd.read()\n",
    "fd.close()\n",
    "sales = json.loads(sl)"
   ]
  },
  {
   "cell_type": "code",
   "execution_count": 146,
   "id": "cf1f44fe",
   "metadata": {},
   "outputs": [
    {
     "name": "stdout",
     "output_type": "stream",
     "text": [
      "---------------------MENU---------------------------\n",
      "1001 {'name': 'Chocolates', 'pr': 10, 'qn': 50}\n",
      "1002 {'name': 'Cokes', 'pr': 25, 'qn': 30}\n",
      "1003 {'name': 'Breads', 'pr': 25, 'qn': 20}\n",
      "1004 {'name': 'Eggs', 'pr': 5, 'qn': 180}\n",
      "1005 {'name': 'Water Bottle', 'pr': 20, 'qn': 30}\n",
      "1006 {'name': 'Biscuits', 'pr': 5, 'qn': 50}\n",
      "1007 {'name': 'Muffins', 'pr': 15, 'qn': 30}\n",
      "1008 {'name': 'Lollipops', 'pr': 2, 'qn': 50}\n",
      "----------------------------------------------------\n",
      "Enter the product id you want : 1003\n",
      "how many Breads you want? : 25\n",
      "*************************************************\n",
      "Sorry. We don't have that much quantity.\n",
      "We have only  20  quantity.\n",
      "Would you like to purchase or not (Y/N)\n",
      "Y/N : Y\n",
      "Name           : Breads\n",
      "MRP            : 25\n",
      "Quantity       : 20\n",
      "--------------------------------\n",
      "Total Amount   : 500\n",
      "------------------------------\n",
      "Sales File is UPDATED!\n",
      "Inventory File is UPDATED!\n"
     ]
    }
   ],
   "source": [
    "# Displaying MENU\n",
    "print(\"---------------------MENU---------------------------\")\n",
    "\n",
    "for i in dct.keys():\n",
    "    print(i, dct[i])\n",
    "\n",
    "print(\"----------------------------------------------------\")    \n",
    "\n",
    "\n",
    "\n",
    "# Taking Input from user ID AND QUANTITY\n",
    "\n",
    "product_id = input(\"Enter the product id you want : \")\n",
    "product_quan = int(input('how many ' + dct[product_id]['name'] + ' you want? : '))\n",
    "\n",
    "\n",
    "# Code for checking quantity in inventory\n",
    "\n",
    "\n",
    "if (product_id in dct.keys()):\n",
    "    if (dct[product_id]['qn'] >= product_quan):\n",
    "        print(\"Name           :\",dct[product_id]['name'])\n",
    "        print(\"MRP            :\",dct[product_id]['pr'])\n",
    "        print(\"Quantity       :\",product_quan)\n",
    "        print(\"--------------------------------\")\n",
    "        print(\"Total Amount   :\",dct[product_id]['pr'] * product_quan)\n",
    "    \n",
    "        dct[product_id]['qn'] = dct[product_id]['qn'] - product_quan                    # To update inventory\n",
    "    \n",
    "        sales[str(len(sales)+1)] = {'product_id' : product_id,                          # Updating Transaction\n",
    "                                  \"time_pr\" :  time.ctime(), \n",
    "                                  'bill' : dct[product_id]['pr'] * product_quan, \n",
    "                                  'qn' : product_quan, \n",
    "                                  'pr' : dct[product_id]['pr'], \n",
    "                                  'pr_name' : dct[product_id]['name']}\n",
    "\n",
    "    else:                                                                               # If we don't have that much quantity the user wants\n",
    "        print(\"*************************************************\")\n",
    "        print(\"Sorry. We don't have that much quantity.\")\n",
    "        print(\"We have only \",dct[product_id]['qn'],\" quantity.\")\n",
    "        print(\"Would you like to purchase or not (Y/N)\")\n",
    "        ch = str(input(\"Y/N : \"))\n",
    "    \n",
    "        if ch == 'Y':\n",
    "            print(\"Name           :\",dct[product_id]['name'])\n",
    "            print(\"MRP            :\",dct[product_id]['pr'])\n",
    "            print(\"Quantity       :\",dct[product_id]['qn'])\n",
    "            print(\"--------------------------------\")\n",
    "            print(\"Total Amount   :\",dct[product_id]['pr'] * dct[product_id]['qn'])\n",
    "        \n",
    "        \n",
    "                                                                 # To update inventory\n",
    "        \n",
    "            sales[str(len(sales)+1)] = {'product_id' : product_id,                          # Updating Transaction\n",
    "                                        'pr_name' : dct[product_id]['name'],\n",
    "                                        \"time_pr\" :  time.ctime(), \n",
    "                                        'bill' : dct[product_id]['pr'] * dct[product_id]['qn'] , \n",
    "                                        'qn' : dct[product_id]['qn'], \n",
    "                                        'pr' : dct[product_id]['pr'] }\n",
    "            \n",
    "            dct[product_id]['qn'] = 0  \n",
    "        else:\n",
    "            print(\"Thank You for Visiting.\")\n",
    "    \n",
    "    \n",
    "else:\n",
    "    print(\"******************************\")\n",
    "    print(\"PRODUCT DOES NOT EXIST IN MENU\")\n",
    "    print(\"Please enter a valid Id.\")\n",
    "    print(\"******************************\")\n",
    "    \n",
    "    \n",
    "    \n",
    "sl = json.dumps(sales)                                # To update sales.json                                                      \n",
    "fd = open('sales.json','w')\n",
    "fd.write(sl)\n",
    "fd.close()\n",
    "\n",
    "print(\"------------------------------\")\n",
    "print(\"Sales File is UPDATED!\")\n",
    "\n",
    "js = json.dumps(dct)                                  # To update record.json                                           \n",
    "fd = open('record.json','w')\n",
    "fd.write(js)\n",
    "fd.close()\n",
    "\n",
    "print(\"Inventory File is UPDATED!\")    "
   ]
  },
  {
   "cell_type": "markdown",
   "id": "0ff3a1c3",
   "metadata": {},
   "source": [
    "# Updating Json File "
   ]
  },
  {
   "cell_type": "code",
   "execution_count": 147,
   "id": "46d02e88",
   "metadata": {},
   "outputs": [
    {
     "data": {
      "text/plain": [
       "{'1001': {'name': 'Chocolates', 'pr': 10, 'qn': 50},\n",
       " '1002': {'name': 'Cokes', 'pr': 25, 'qn': 30},\n",
       " '1003': {'name': 'Breads', 'pr': 25, 'qn': 0},\n",
       " '1004': {'name': 'Eggs', 'pr': 5, 'qn': 180},\n",
       " '1005': {'name': 'Water Bottle', 'pr': 20, 'qn': 30},\n",
       " '1006': {'name': 'Biscuits', 'pr': 5, 'qn': 50},\n",
       " '1007': {'name': 'Muffins', 'pr': 15, 'qn': 30},\n",
       " '1008': {'name': 'Lollipops', 'pr': 2, 'qn': 50}}"
      ]
     },
     "execution_count": 147,
     "metadata": {},
     "output_type": "execute_result"
    }
   ],
   "source": [
    "dct"
   ]
  },
  {
   "cell_type": "code",
   "execution_count": 148,
   "id": "07de1c52",
   "metadata": {},
   "outputs": [
    {
     "data": {
      "text/plain": [
       "{'1': {'product_id': '1003',\n",
       "  'pr_name': 'Breads',\n",
       "  'time_pr': 'Tue Sep 14 23:42:34 2021',\n",
       "  'bill': 500,\n",
       "  'qn': 20,\n",
       "  'pr': 25}}"
      ]
     },
     "execution_count": 148,
     "metadata": {},
     "output_type": "execute_result"
    }
   ],
   "source": [
    "sales"
   ]
  },
  {
   "cell_type": "code",
   "execution_count": null,
   "id": "7abe81b6",
   "metadata": {},
   "outputs": [],
   "source": []
  }
 ],
 "metadata": {
  "kernelspec": {
   "display_name": "Python 3",
   "language": "python",
   "name": "python3"
  }
 },
 "nbformat": 4,
 "nbformat_minor": 5
}
